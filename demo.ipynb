{
 "cells": [
  {
   "cell_type": "code",
   "execution_count": null,
   "metadata": {},
   "outputs": [],
   "source": [
    "import networkx as nx\n",
    "import os\n",
    "import pickle\n",
    "from tqdm import tqdm\n",
    "import numpy as np\n",
    "import random\n",
    "from collections import defaultdict"
   ]
  },
  {
   "cell_type": "code",
   "execution_count": null,
   "metadata": {},
   "outputs": [],
   "source": [
    "# IC MODEL\n",
    "PROPOGATION = 0.1\n",
    "total_runs = 30\n",
    "iterations = 100\n",
    "seed_size = 25\n",
    "population_size = 500"
   ]
  },
  {
   "cell_type": "code",
   "execution_count": null,
   "metadata": {},
   "outputs": [],
   "source": [
    "graphnames = ['spa_500_{}'.format(graphidx) for graphidx in range(10)]\n",
    "\n",
    "g = pickle.load(open('networks/graph_{}.pickle'.format(graphnames[0]), 'rb')) \n",
    "\n",
    "if 'spa' not in graphnames[0]:\n",
    "    to_remove = []\n",
    "    for v in g.nodes():\n",
    "        if 'race' not in g.node[v]:\n",
    "            to_remove.append(v)\n",
    "    g.remove_nodes_from(to_remove)\n",
    "\n",
    "p = 0.1\n",
    "for u,v in g.edges():\n",
    "    g[u][v]['p'] = p\n",
    "\n",
    "g = nx.convert_node_labels_to_integers(g, label_attribute='pid')\n",
    "    \n",
    "print(g.nodes.data())\n"
   ]
  },
  {
   "cell_type": "code",
   "execution_count": null,
   "metadata": {},
   "outputs": [],
   "source": [
    "god = \"demo\"\n",
    "\n",
    "class Wolf:\n",
    "    def __init__(self,g,metric, kind, name=None):\n",
    "        self.g = g\n",
    "        self.g_len = len(self.g.nodes)\n",
    "        self.start = set(np.random.choice(range(self.g_len), seed_size,replace=False))\n",
    "        self.metric = metric\n",
    "        self.v = set(range(self.g_len)) - self.start\n",
    "        \n",
    "        self.c = self.get_property(range(self.g_len))\n",
    "        self.start_c = self.get_property(self.start)\n",
    "        self.kind = kind\n",
    "        \n",
    "        self.name = name\n",
    "        self.domination_count = 0\n",
    "        self.dominated_wolves = set()\n",
    "                \n",
    "    #maximize\n",
    "    def influence_metric(self):\n",
    "        self.influence = len(self.next)\n",
    "        return self.influence\n",
    "    #maximize\n",
    "    def maximin_fairness_metric(self):\n",
    "        self.maximin_fairness = np.inf\n",
    "        for kind, next_list in self.next_c.items():\n",
    "            start_list = self.c[kind]\n",
    "            \n",
    "            if self.maximin_fairness > len(next_list)/len(start_list):\n",
    "                self.maximin_fairness = len(next_list)/len(start_list)\n",
    "        if self.maximin_fairness== np.inf:\n",
    "            print(self.next_c)\n",
    "            print(self.c)\n",
    "        return self.maximin_fairness\n",
    "    #maximize\n",
    "    def group_rationality_metric(self):\n",
    "        self.group_rationality = self.influence\n",
    "        for kind, next_list in self.next_c.items():\n",
    "                                \n",
    "            subgraph = self.g.subgraph(self.c[kind])\n",
    "            \n",
    "            activated_nodes = self.start_c[kind]\n",
    "            newly_activated = self.start_c[kind]\n",
    "            idx = 1 \n",
    "            self.group_activation_dict = defaultdict(list)\n",
    "            while newly_activated:\n",
    "                next_round_activation = set()\n",
    "                for node in newly_activated:\n",
    "                    neighbors = set(subgraph.neighbors(node)) - activated_nodes\n",
    "                    for neighbor in neighbors:\n",
    "                        if random.random() < PROPOGATION:\n",
    "                            next_round_activation.add(neighbor)\n",
    "                activated_nodes.update(next_round_activation)\n",
    "                newly_activated = next_round_activation\n",
    "                \n",
    "            if len(next_list) <= len(activated_nodes):\n",
    "                self.group_rationality = 0\n",
    "        return self.group_rationality\n",
    "    \n",
    "    #maximize\n",
    "    def group_activation_speed_metric(self):\n",
    "        self.group_activation_speed = np.inf\n",
    "        if self.component[0]==0:\n",
    "            self.group_activation_speed = 0\n",
    "        \n",
    "        else:\n",
    "            for key, value in self.c.items():\n",
    "                speed_key = np.dot(np.array(self.group_activation_dict[key]),self.component)/(self.component[0]*(len(value)-len(self.start_c[key])))                \n",
    "                if speed_key < self.group_activation_speed:\n",
    "                    self.group_activation_speed = speed_key\n",
    "            \n",
    "            if self.group_activation_speed == np.inf:\n",
    "                self.group_activation_speed = 0\n",
    "        return self.group_activation_speed\n",
    "    def ic_model(self, g=None, start=None):\n",
    "        if g==None:\n",
    "            g = self.g\n",
    "        if start == None:\n",
    "            start = self.start\n",
    "        activated_nodes = start\n",
    "        newly_activated = start\n",
    "        idx = 1 \n",
    "        self.group_activation_dict = defaultdict(list)\n",
    "        while newly_activated:\n",
    "            next_round_activation = set()\n",
    "            for node in newly_activated:\n",
    "                neighbors = set(g.neighbors(node)) - activated_nodes\n",
    "                for neighbor in neighbors:\n",
    "                    if random.random() < PROPOGATION:\n",
    "                        next_round_activation.add(neighbor)\n",
    "            activated_nodes.update(next_round_activation)\n",
    "            newly_activated = next_round_activation\n",
    "            \n",
    "            nij = self.get_property(newly_activated)\n",
    "            \n",
    "            for key,value in self.c.items():\n",
    "                self.group_activation_dict[key] += [len(nij[key])] \n",
    "            idx += 1 \n",
    "            \n",
    "        component = list(range(0,idx-1))\n",
    "        component.reverse()\n",
    "        self.component = np.array(component)\n",
    "        \n",
    "        self.next = activated_nodes\n",
    "        self.next_c = self.get_property(self.next)\n",
    "        \n",
    "        \n",
    "        self.objective_values= []\n",
    "        if \"influence\" in self.kind:\n",
    "            self.objective_values+=[self.influence_metric()]\n",
    "        if \"maximin\" in self.kind:\n",
    "            self.objective_values+=[self.influence_metric()]\n",
    "        if \"speed\" in self.kind:\n",
    "            self.objective_values+=[self.group_activation_speed_metric()]\n",
    "        if \"rationality\" in self.kind:\n",
    "            self.objective_values+=[self.group_rationality_metric()]\n",
    "            \n",
    "        \n",
    "        self.objective_values = np.round(self.objective_values,3)\n",
    "\n",
    "    \n",
    "    def get_next_start(self,A):\n",
    "        global god\n",
    "        if A<1:\n",
    "            e_n = self.leader - self.start\n",
    "            e_o = self.start - self.leader\n",
    "            d = len(e_o)\n",
    "            step = int(np.ceil((1-A)*d))\n",
    "            step = min(step, len(e_o), len(e_n))\n",
    "            self.start = self.start - set(random.sample(list(e_o), step))\n",
    "            self.start = self.start.union(set(random.sample(list(e_n), step)))\n",
    "        else:\n",
    "            if len(self.v)<self.g_len*0.8:\n",
    "                self.v = set(range(self.g_len)) - self.start\n",
    "            \n",
    "            e_n = self.v - self.start.union(self.leader)\n",
    "            e_o = self.start.intersection(self.leader) \n",
    "            d = len(self.start - self.leader)\n",
    "            step = int(np.ceil((A-1)*d))\n",
    "            step = min(step, len(e_o), len(e_n))\n",
    "            self.start = self.start - set(random.sample(list(e_o), step))\n",
    "            v_step = set(random.sample(list(e_n), step))\n",
    "            self.start = self.start.union(v_step)\n",
    "            self.v = self.v - v_step \n",
    "    \n",
    "    def get_property(self,node_set):\n",
    "        property_dict = defaultdict(list)\n",
    "        for node in node_set:\n",
    "            property_value = self.g.nodes[node][self.metric]\n",
    "            if property_value not in property_dict:\n",
    "                property_dict[property_value] = []\n",
    "            property_dict[property_value].append(node)\n",
    "\n",
    "        for key, value in property_dict.items():\n",
    "            property_dict[key] = set(value)\n",
    "        return property_dict\n",
    "    \n",
    "    \n",
    "    \n",
    "    def get_leader(self, wolves):\n",
    "        min_difference = float('inf')\n",
    "        smallest_set = None\n",
    "        for X in wolves:\n",
    "            difference = len(self.start - X.start)\n",
    "            if difference < min_difference:\n",
    "                min_difference = difference\n",
    "                smallest_set = X.next\n",
    "        self.leader = set(random.sample(list(smallest_set), int((len(smallest_set)*0.6))))"
   ]
  },
  {
   "cell_type": "code",
   "execution_count": null,
   "metadata": {},
   "outputs": [],
   "source": [
    "from joblib import Parallel, delayed\n",
    "\n",
    "def find_pareto_fronts(wolves):\n",
    "    objective_values = np.array([wolf.objective_values for wolf in wolves])\n",
    "    domination_counts = np.sum(np.all(objective_values > objective_values[:, np.newaxis], axis=2), axis=1)\n",
    "    pareto_front = [wolves[i] for i, count in enumerate(domination_counts) if count == 0]\n",
    "    return pareto_front\n",
    "\n"
   ]
  },
  {
   "cell_type": "code",
   "execution_count": 41,
   "metadata": {},
   "outputs": [
    {
     "name": "stderr",
     "output_type": "stream",
     "text": [
      "  2%|▏         | 2/100 [00:00<00:09, 10.86it/s]"
     ]
    },
    {
     "name": "stdout",
     "output_type": "stream",
     "text": [
      "3 500 [500 500]\n",
      "2 90 [90 90]\n"
     ]
    },
    {
     "name": "stderr",
     "output_type": "stream",
     "text": [
      "  4%|▍         | 4/100 [00:00<00:11,  8.61it/s]"
     ]
    },
    {
     "name": "stdout",
     "output_type": "stream",
     "text": [
      "1 122 [122 122]\n",
      "1 161 [161 161]\n"
     ]
    },
    {
     "name": "stderr",
     "output_type": "stream",
     "text": [
      "  5%|▌         | 5/100 [00:00<00:12,  7.40it/s]"
     ]
    },
    {
     "name": "stdout",
     "output_type": "stream",
     "text": [
      "1 203 [203 203]\n",
      "1 232 [232 232]\n"
     ]
    },
    {
     "name": "stderr",
     "output_type": "stream",
     "text": [
      "  7%|▋         | 7/100 [00:01<00:17,  5.27it/s]"
     ]
    },
    {
     "name": "stdout",
     "output_type": "stream",
     "text": [
      "1 290 [290 290]\n"
     ]
    },
    {
     "name": "stderr",
     "output_type": "stream",
     "text": [
      "  8%|▊         | 8/100 [00:01<00:20,  4.57it/s]"
     ]
    },
    {
     "name": "stdout",
     "output_type": "stream",
     "text": [
      "1 327 [327 327]\n"
     ]
    },
    {
     "name": "stderr",
     "output_type": "stream",
     "text": [
      "  9%|▉         | 9/100 [00:01<00:22,  4.02it/s]"
     ]
    },
    {
     "name": "stdout",
     "output_type": "stream",
     "text": [
      "1 367 [367 367]\n"
     ]
    },
    {
     "name": "stderr",
     "output_type": "stream",
     "text": [
      " 10%|█         | 10/100 [00:02<00:24,  3.68it/s]"
     ]
    },
    {
     "name": "stdout",
     "output_type": "stream",
     "text": [
      "1 400 [400 400]\n"
     ]
    },
    {
     "name": "stderr",
     "output_type": "stream",
     "text": [
      " 11%|█         | 11/100 [00:02<00:26,  3.41it/s]"
     ]
    },
    {
     "name": "stdout",
     "output_type": "stream",
     "text": [
      "1 427 [427 427]\n"
     ]
    },
    {
     "name": "stderr",
     "output_type": "stream",
     "text": [
      " 12%|█▏        | 12/100 [00:02<00:27,  3.26it/s]"
     ]
    },
    {
     "name": "stdout",
     "output_type": "stream",
     "text": [
      "4 441 [441 441]\n"
     ]
    },
    {
     "name": "stderr",
     "output_type": "stream",
     "text": [
      " 13%|█▎        | 13/100 [00:03<00:27,  3.19it/s]"
     ]
    },
    {
     "name": "stdout",
     "output_type": "stream",
     "text": [
      "1 457 [457 457]\n"
     ]
    },
    {
     "name": "stderr",
     "output_type": "stream",
     "text": [
      " 14%|█▍        | 14/100 [00:03<00:27,  3.14it/s]"
     ]
    },
    {
     "name": "stdout",
     "output_type": "stream",
     "text": [
      "1 467 [467 467]\n"
     ]
    },
    {
     "name": "stderr",
     "output_type": "stream",
     "text": [
      " 15%|█▌        | 15/100 [00:03<00:28,  3.03it/s]"
     ]
    },
    {
     "name": "stdout",
     "output_type": "stream",
     "text": [
      "3 480 [480 480]\n"
     ]
    },
    {
     "name": "stderr",
     "output_type": "stream",
     "text": [
      " 16%|█▌        | 16/100 [00:04<00:27,  3.02it/s]"
     ]
    },
    {
     "name": "stdout",
     "output_type": "stream",
     "text": [
      "7 486 [486 486]\n"
     ]
    },
    {
     "name": "stderr",
     "output_type": "stream",
     "text": [
      " 17%|█▋        | 17/100 [00:04<00:27,  3.02it/s]"
     ]
    },
    {
     "name": "stdout",
     "output_type": "stream",
     "text": [
      "1 487 [487 487]\n"
     ]
    },
    {
     "name": "stderr",
     "output_type": "stream",
     "text": [
      " 18%|█▊        | 18/100 [00:04<00:27,  3.00it/s]"
     ]
    },
    {
     "name": "stdout",
     "output_type": "stream",
     "text": [
      "1 492 [492 492]\n"
     ]
    },
    {
     "name": "stderr",
     "output_type": "stream",
     "text": [
      " 19%|█▉        | 19/100 [00:05<00:26,  3.01it/s]"
     ]
    },
    {
     "name": "stdout",
     "output_type": "stream",
     "text": [
      "1 494 [494 494]\n"
     ]
    },
    {
     "name": "stderr",
     "output_type": "stream",
     "text": [
      " 20%|██        | 20/100 [00:05<00:26,  3.00it/s]"
     ]
    },
    {
     "name": "stdout",
     "output_type": "stream",
     "text": [
      "6 497 [497 497]\n"
     ]
    },
    {
     "name": "stderr",
     "output_type": "stream",
     "text": [
      " 21%|██        | 21/100 [00:05<00:26,  3.00it/s]"
     ]
    },
    {
     "name": "stdout",
     "output_type": "stream",
     "text": [
      "7 498 [498 498]\n"
     ]
    },
    {
     "name": "stderr",
     "output_type": "stream",
     "text": [
      " 22%|██▏       | 22/100 [00:06<00:26,  2.96it/s]"
     ]
    },
    {
     "name": "stdout",
     "output_type": "stream",
     "text": [
      "11 498 [498 498]\n"
     ]
    },
    {
     "name": "stderr",
     "output_type": "stream",
     "text": [
      " 23%|██▎       | 23/100 [00:06<00:26,  2.96it/s]"
     ]
    },
    {
     "name": "stdout",
     "output_type": "stream",
     "text": [
      "5 499 [499 499]\n"
     ]
    },
    {
     "name": "stderr",
     "output_type": "stream",
     "text": [
      " 24%|██▍       | 24/100 [00:06<00:25,  2.99it/s]"
     ]
    },
    {
     "name": "stdout",
     "output_type": "stream",
     "text": [
      "14 500 [500 500]\n"
     ]
    },
    {
     "name": "stderr",
     "output_type": "stream",
     "text": [
      " 25%|██▌       | 25/100 [00:07<00:25,  2.97it/s]"
     ]
    },
    {
     "name": "stdout",
     "output_type": "stream",
     "text": [
      "41 500 [500 500]\n"
     ]
    },
    {
     "name": "stderr",
     "output_type": "stream",
     "text": [
      " 26%|██▌       | 26/100 [00:07<00:24,  2.99it/s]"
     ]
    },
    {
     "name": "stdout",
     "output_type": "stream",
     "text": [
      "98 500 [500 500]\n"
     ]
    },
    {
     "name": "stderr",
     "output_type": "stream",
     "text": [
      " 27%|██▋       | 27/100 [00:07<00:24,  3.02it/s]"
     ]
    },
    {
     "name": "stdout",
     "output_type": "stream",
     "text": [
      "192 500 [500 500]\n"
     ]
    },
    {
     "name": "stderr",
     "output_type": "stream",
     "text": [
      " 28%|██▊       | 28/100 [00:08<00:23,  3.01it/s]"
     ]
    },
    {
     "name": "stdout",
     "output_type": "stream",
     "text": [
      "336 500 [500 500]\n"
     ]
    },
    {
     "name": "stderr",
     "output_type": "stream",
     "text": [
      " 29%|██▉       | 29/100 [00:08<00:24,  2.94it/s]"
     ]
    },
    {
     "name": "stdout",
     "output_type": "stream",
     "text": [
      "527 500 [500 500]\n"
     ]
    },
    {
     "name": "stderr",
     "output_type": "stream",
     "text": [
      " 30%|███       | 30/100 [00:08<00:23,  2.94it/s]"
     ]
    },
    {
     "name": "stdout",
     "output_type": "stream",
     "text": [
      "757 500 [500 500]\n"
     ]
    },
    {
     "name": "stderr",
     "output_type": "stream",
     "text": [
      " 31%|███       | 31/100 [00:09<00:23,  2.95it/s]"
     ]
    },
    {
     "name": "stdout",
     "output_type": "stream",
     "text": [
      "1045 500 [500 500]\n"
     ]
    },
    {
     "name": "stderr",
     "output_type": "stream",
     "text": [
      " 32%|███▏      | 32/100 [00:09<00:23,  2.85it/s]"
     ]
    },
    {
     "name": "stdout",
     "output_type": "stream",
     "text": [
      "1376 500 [500 500]\n"
     ]
    },
    {
     "name": "stderr",
     "output_type": "stream",
     "text": [
      " 33%|███▎      | 33/100 [00:09<00:24,  2.78it/s]"
     ]
    },
    {
     "name": "stdout",
     "output_type": "stream",
     "text": [
      "1739 500 [500 500]\n"
     ]
    },
    {
     "name": "stderr",
     "output_type": "stream",
     "text": [
      " 34%|███▍      | 34/100 [00:10<00:24,  2.70it/s]"
     ]
    },
    {
     "name": "stdout",
     "output_type": "stream",
     "text": [
      "2137 500 [500 500]\n"
     ]
    },
    {
     "name": "stderr",
     "output_type": "stream",
     "text": [
      " 35%|███▌      | 35/100 [00:10<00:25,  2.53it/s]"
     ]
    },
    {
     "name": "stdout",
     "output_type": "stream",
     "text": [
      "2559 500 [500 500]\n"
     ]
    },
    {
     "name": "stderr",
     "output_type": "stream",
     "text": [
      " 36%|███▌      | 36/100 [00:11<00:27,  2.31it/s]"
     ]
    },
    {
     "name": "stdout",
     "output_type": "stream",
     "text": [
      "2997 500 [500 500]\n"
     ]
    },
    {
     "name": "stderr",
     "output_type": "stream",
     "text": [
      " 37%|███▋      | 37/100 [00:11<00:29,  2.13it/s]"
     ]
    },
    {
     "name": "stdout",
     "output_type": "stream",
     "text": [
      "3444 500 [500 500]\n"
     ]
    },
    {
     "name": "stderr",
     "output_type": "stream",
     "text": [
      " 38%|███▊      | 38/100 [00:12<00:31,  1.94it/s]"
     ]
    },
    {
     "name": "stdout",
     "output_type": "stream",
     "text": [
      "3901 500 [500 500]\n"
     ]
    },
    {
     "name": "stderr",
     "output_type": "stream",
     "text": [
      " 39%|███▉      | 39/100 [00:13<00:34,  1.75it/s]"
     ]
    },
    {
     "name": "stdout",
     "output_type": "stream",
     "text": [
      "4366 500 [500 500]\n"
     ]
    },
    {
     "name": "stderr",
     "output_type": "stream",
     "text": [
      " 40%|████      | 40/100 [00:13<00:38,  1.58it/s]"
     ]
    },
    {
     "name": "stdout",
     "output_type": "stream",
     "text": [
      "4842 500 [500 500]\n"
     ]
    },
    {
     "name": "stderr",
     "output_type": "stream",
     "text": [
      " 41%|████      | 41/100 [00:14<00:41,  1.43it/s]"
     ]
    },
    {
     "name": "stdout",
     "output_type": "stream",
     "text": [
      "5323 500 [500 500]\n"
     ]
    },
    {
     "name": "stderr",
     "output_type": "stream",
     "text": [
      " 42%|████▏     | 42/100 [00:15<00:45,  1.27it/s]"
     ]
    },
    {
     "name": "stdout",
     "output_type": "stream",
     "text": [
      "5807 500 [500 500]\n"
     ]
    },
    {
     "name": "stderr",
     "output_type": "stream",
     "text": [
      " 43%|████▎     | 43/100 [00:16<00:50,  1.14it/s]"
     ]
    },
    {
     "name": "stdout",
     "output_type": "stream",
     "text": [
      "6293 500 [500 500]\n"
     ]
    },
    {
     "name": "stderr",
     "output_type": "stream",
     "text": [
      " 44%|████▍     | 44/100 [00:18<00:54,  1.03it/s]"
     ]
    },
    {
     "name": "stdout",
     "output_type": "stream",
     "text": [
      "6782 500 [500 500]\n"
     ]
    },
    {
     "name": "stderr",
     "output_type": "stream",
     "text": [
      " 45%|████▌     | 45/100 [00:19<01:00,  1.09s/it]"
     ]
    },
    {
     "name": "stdout",
     "output_type": "stream",
     "text": [
      "7272 500 [500 500]\n"
     ]
    },
    {
     "name": "stderr",
     "output_type": "stream",
     "text": [
      " 46%|████▌     | 46/100 [00:20<01:05,  1.22s/it]"
     ]
    },
    {
     "name": "stdout",
     "output_type": "stream",
     "text": [
      "7767 500 [500 500]\n"
     ]
    },
    {
     "name": "stderr",
     "output_type": "stream",
     "text": [
      " 46%|████▌     | 46/100 [00:21<00:25,  2.12it/s]\n"
     ]
    },
    {
     "ename": "KeyboardInterrupt",
     "evalue": "",
     "output_type": "error",
     "traceback": [
      "\u001b[1;31m---------------------------------------------------------------------------\u001b[0m",
      "\u001b[1;31mKeyboardInterrupt\u001b[0m                         Traceback (most recent call last)",
      "Cell \u001b[1;32mIn[41], line 16\u001b[0m\n\u001b[0;32m     13\u001b[0m     \u001b[38;5;28;01mif\u001b[39;00m \u001b[38;5;28mlen\u001b[39m(wolf\u001b[38;5;241m.\u001b[39mstart)\u001b[38;5;241m<\u001b[39m\u001b[38;5;241m20\u001b[39m:\n\u001b[0;32m     14\u001b[0m         wolf \u001b[38;5;241m=\u001b[39m Wolf(g, \u001b[38;5;124m\"\u001b[39m\u001b[38;5;124mage\u001b[39m\u001b[38;5;124m\"\u001b[39m)\n\u001b[1;32m---> 16\u001b[0m archive \u001b[38;5;241m=\u001b[39m \u001b[43mfind_pareto_fronts\u001b[49m\u001b[43m(\u001b[49m\u001b[43mwolves\u001b[49m\u001b[38;5;241;43m+\u001b[39;49m\u001b[43marchive\u001b[49m\u001b[43m)\u001b[49m\n\u001b[0;32m     18\u001b[0m \u001b[38;5;28mprint\u001b[39m(\u001b[38;5;28mlen\u001b[39m(archive), \u001b[38;5;28mlen\u001b[39m(leaders[\u001b[38;5;241m0\u001b[39m]\u001b[38;5;241m.\u001b[39mstart), leaders[\u001b[38;5;241m0\u001b[39m]\u001b[38;5;241m.\u001b[39mobjective_values)    \n\u001b[0;32m     19\u001b[0m \u001b[38;5;66;03m# leaders = front[:3]  \u001b[39;00m\n",
      "Cell \u001b[1;32mIn[17], line 5\u001b[0m, in \u001b[0;36mfind_pareto_fronts\u001b[1;34m(wolves)\u001b[0m\n\u001b[0;32m      3\u001b[0m \u001b[38;5;28;01mdef\u001b[39;00m \u001b[38;5;21mfind_pareto_fronts\u001b[39m(wolves):\n\u001b[0;32m      4\u001b[0m     objective_values \u001b[38;5;241m=\u001b[39m np\u001b[38;5;241m.\u001b[39marray([wolf\u001b[38;5;241m.\u001b[39mobjective_values \u001b[38;5;28;01mfor\u001b[39;00m wolf \u001b[38;5;129;01min\u001b[39;00m wolves])\n\u001b[1;32m----> 5\u001b[0m     domination_counts \u001b[38;5;241m=\u001b[39m np\u001b[38;5;241m.\u001b[39msum(\u001b[43mnp\u001b[49m\u001b[38;5;241;43m.\u001b[39;49m\u001b[43mall\u001b[49m\u001b[43m(\u001b[49m\u001b[43mobjective_values\u001b[49m\u001b[43m \u001b[49m\u001b[38;5;241;43m>\u001b[39;49m\u001b[43m \u001b[49m\u001b[43mobjective_values\u001b[49m\u001b[43m[\u001b[49m\u001b[43m:\u001b[49m\u001b[43m,\u001b[49m\u001b[43m \u001b[49m\u001b[43mnp\u001b[49m\u001b[38;5;241;43m.\u001b[39;49m\u001b[43mnewaxis\u001b[49m\u001b[43m]\u001b[49m\u001b[43m,\u001b[49m\u001b[43m \u001b[49m\u001b[43maxis\u001b[49m\u001b[38;5;241;43m=\u001b[39;49m\u001b[38;5;241;43m2\u001b[39;49m\u001b[43m)\u001b[49m, axis\u001b[38;5;241m=\u001b[39m\u001b[38;5;241m1\u001b[39m)\n\u001b[0;32m      6\u001b[0m     pareto_front \u001b[38;5;241m=\u001b[39m [wolves[i] \u001b[38;5;28;01mfor\u001b[39;00m i, count \u001b[38;5;129;01min\u001b[39;00m \u001b[38;5;28menumerate\u001b[39m(domination_counts) \u001b[38;5;28;01mif\u001b[39;00m count \u001b[38;5;241m==\u001b[39m \u001b[38;5;241m0\u001b[39m]\n\u001b[0;32m      7\u001b[0m     \u001b[38;5;28;01mreturn\u001b[39;00m pareto_front\n",
      "File \u001b[1;32m~\\AppData\\Local\\Packages\\PythonSoftwareFoundation.Python.3.11_qbz5n2kfra8p0\\LocalCache\\local-packages\\Python311\\site-packages\\numpy\\core\\fromnumeric.py:2416\u001b[0m, in \u001b[0;36m_all_dispatcher\u001b[1;34m(a, axis, out, keepdims, where)\u001b[0m\n\u001b[0;32m   2324\u001b[0m \u001b[38;5;250m    \u001b[39m\u001b[38;5;124;03m\"\"\"\u001b[39;00m\n\u001b[0;32m   2325\u001b[0m \u001b[38;5;124;03m    Test whether any array element along a given axis evaluates to True.\u001b[39;00m\n\u001b[0;32m   2326\u001b[0m \n\u001b[1;32m   (...)\u001b[0m\n\u001b[0;32m   2410\u001b[0m \n\u001b[0;32m   2411\u001b[0m \u001b[38;5;124;03m    \"\"\"\u001b[39;00m\n\u001b[0;32m   2412\u001b[0m     \u001b[38;5;28;01mreturn\u001b[39;00m _wrapreduction(a, np\u001b[38;5;241m.\u001b[39mlogical_or, \u001b[38;5;124m'\u001b[39m\u001b[38;5;124many\u001b[39m\u001b[38;5;124m'\u001b[39m, axis, \u001b[38;5;28;01mNone\u001b[39;00m, out,\n\u001b[0;32m   2413\u001b[0m                           keepdims\u001b[38;5;241m=\u001b[39mkeepdims, where\u001b[38;5;241m=\u001b[39mwhere)\n\u001b[1;32m-> 2416\u001b[0m \u001b[38;5;28;01mdef\u001b[39;00m \u001b[38;5;21m_all_dispatcher\u001b[39m(a, axis\u001b[38;5;241m=\u001b[39m\u001b[38;5;28;01mNone\u001b[39;00m, out\u001b[38;5;241m=\u001b[39m\u001b[38;5;28;01mNone\u001b[39;00m, keepdims\u001b[38;5;241m=\u001b[39m\u001b[38;5;28;01mNone\u001b[39;00m, \u001b[38;5;241m*\u001b[39m,\n\u001b[0;32m   2417\u001b[0m                     where\u001b[38;5;241m=\u001b[39m\u001b[38;5;28;01mNone\u001b[39;00m):\n\u001b[0;32m   2418\u001b[0m     \u001b[38;5;28;01mreturn\u001b[39;00m (a, where, out)\n\u001b[0;32m   2421\u001b[0m \u001b[38;5;129m@array_function_dispatch\u001b[39m(_all_dispatcher)\n\u001b[0;32m   2422\u001b[0m \u001b[38;5;28;01mdef\u001b[39;00m \u001b[38;5;21mall\u001b[39m(a, axis\u001b[38;5;241m=\u001b[39m\u001b[38;5;28;01mNone\u001b[39;00m, out\u001b[38;5;241m=\u001b[39m\u001b[38;5;28;01mNone\u001b[39;00m, keepdims\u001b[38;5;241m=\u001b[39mnp\u001b[38;5;241m.\u001b[39m_NoValue, \u001b[38;5;241m*\u001b[39m, where\u001b[38;5;241m=\u001b[39mnp\u001b[38;5;241m.\u001b[39m_NoValue):\n",
      "\u001b[1;31mKeyboardInterrupt\u001b[0m: "
     ]
    }
   ],
   "source": [
    "import time\n",
    "wolves = [Wolf(g, \"age\", {\"influence\", \"maximin\"}) for i in range(500)]\n",
    "archive = []\n",
    "for i in tqdm(range(iterations)):\n",
    "    a = 2 - i * (2/iterations)\n",
    "    A = 2* a * np.random.rand(len(g.nodes())//100) - a\n",
    "    C = 2* np.random.rand(len(g.nodes())//100)\n",
    "\n",
    "    magnitude_A = np.linalg.norm(A)\n",
    "    for wolf in wolves:\n",
    "        \n",
    "        wolf.ic_model()\n",
    "        if len(wolf.start)<20:\n",
    "            wolf = Wolf(g, \"age\")\n",
    "    \n",
    "    archive = find_pareto_fronts(wolves+archive)\n",
    "    \n",
    "    print(len(archive), len(leaders[0].start), leaders[0].objective_values)    \n",
    "    # leaders = front[:3]  \n",
    "    \n",
    "    if len(archive)>3:\n",
    "        leaders = random.sample(archive, 3)\n",
    "    else:\n",
    "        leaders = archive\n",
    "    \n",
    "    now = time.time()\n",
    "    for wolf in wolves:\n",
    "        if wolf not in leaders:\n",
    "            wolf.get_leader(leaders)\n",
    "            wolf.get_next_start(magnitude_A)\n"
   ]
  }
 ],
 "metadata": {
  "kernelspec": {
   "display_name": "Python 3",
   "language": "python",
   "name": "python3"
  },
  "language_info": {
   "codemirror_mode": {
    "name": "ipython",
    "version": 3
   },
   "file_extension": ".py",
   "mimetype": "text/x-python",
   "name": "python",
   "nbconvert_exporter": "python",
   "pygments_lexer": "ipython3",
   "version": "3.11.8"
  }
 },
 "nbformat": 4,
 "nbformat_minor": 2
}
