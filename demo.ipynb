{
 "cells": [
  {
   "cell_type": "code",
   "execution_count": 1,
   "metadata": {},
   "outputs": [],
   "source": [
    "%load_ext autoreload\n",
    "%autoreload 2\n",
    "\n",
    "\n",
    "import networkx as nx\n",
    "import os\n",
    "import pickle\n",
    "from tqdm import tqdm\n",
    "import numpy as np\n",
    "import random\n",
    "from collections import defaultdict\n",
    "import copy\n",
    "from wolf import *\n",
    "from run import *"
   ]
  },
  {
   "cell_type": "code",
   "execution_count": 2,
   "metadata": {},
   "outputs": [],
   "source": [
    "# IC MODEL\n",
    "PROPOGATION = 0.1\n",
    "total_runs = 30\n",
    "ITERATIONS = 100\n",
    "SEED_SIZE = 25\n",
    "POPULATION_SIZE = 500"
   ]
  },
  {
   "cell_type": "code",
   "execution_count": 3,
   "metadata": {},
   "outputs": [],
   "source": [
    "import concurrent.futures\n",
    "    \n",
    "# with concurrent.futures.ThreadPoolExecutor() as executor:\n",
    "#     results = executor.map(simulate, range(30))\n"
   ]
  },
  {
   "cell_type": "code",
   "execution_count": 4,
   "metadata": {},
   "outputs": [
    {
     "name": "stderr",
     "output_type": "stream",
     "text": [
      "100%|██████████| 24/24 [04:49<00:00, 12.07s/it]\n",
      "100%|██████████| 24/24 [03:02<00:00,  7.59s/it]\n"
     ]
    },
    {
     "data": {
      "text/plain": [
       "array([6.12685185e+01, 8.28682245e-02, 2.30185185e+01, 1.18440670e-02,\n",
       "       6.20370370e-01, 1.13639111e+00, 5.77307450e-01, 1.04625905e+00,\n",
       "       8.64701814e-01])"
      ]
     },
     "execution_count": 4,
     "metadata": {},
     "output_type": "execute_result"
    }
   ],
   "source": [
    "attribute = \"age\"\n",
    "objectives = {'maximin'}\n",
    "demo = simulate(get_graphs(), attribute, objectives, 1, True)\n",
    "demo"
   ]
  },
  {
   "cell_type": "code",
   "execution_count": 5,
   "metadata": {},
   "outputs": [],
   "source": [
    "# # print(np.average(results, axis=0))\n",
    "# # print(sum(results[:,2]==0)/len(results))\n",
    "# # print(np.average(results2, axis=0)/(np.average(results, axis=0)))\n",
    "# np.array(np.concatenate((np.average(results, axis=0),\n",
    "# np.array([sum(results[:,2]==0)/len(results)]), \n",
    "# np.average(results2, axis=0)/(np.average(results, axis=0)))))\n",
    "        "
   ]
  },
  {
   "cell_type": "code",
   "execution_count": 6,
   "metadata": {},
   "outputs": [],
   "source": [
    "# !python wolf.py -a age -o maximin --pof"
   ]
  }
 ],
 "metadata": {
  "kernelspec": {
   "display_name": "Python 3",
   "language": "python",
   "name": "python3"
  },
  "language_info": {
   "codemirror_mode": {
    "name": "ipython",
    "version": 3
   },
   "file_extension": ".py",
   "mimetype": "text/x-python",
   "name": "python",
   "nbconvert_exporter": "python",
   "pygments_lexer": "ipython3",
   "version": "3.11.8"
  }
 },
 "nbformat": 4,
 "nbformat_minor": 2
}
